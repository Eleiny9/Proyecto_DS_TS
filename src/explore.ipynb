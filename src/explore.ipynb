{
    "cells": [
        {
            "cell_type": "markdown",
            "metadata": {},
            "source": [
                "# Explore here"
            ]
        },
        {
            "cell_type": "code",
            "execution_count": 6,
            "metadata": {},
            "outputs": [
                {
                    "name": "stdout",
                    "output_type": "stream",
                    "text": [
                        "{'realtime_start': '2018-07-04', 'realtime_end': '2023-12-31', 'seriess': [{'id': 'GNPCA', 'realtime_start': '2018-07-04', 'realtime_end': '2018-07-26', 'title': 'Real Gross National Product', 'observation_start': '1929-01-01', 'observation_end': '2017-01-01', 'frequency': 'Annual', 'frequency_short': 'A', 'units': 'Billions of Chained 2009 Dollars', 'units_short': 'Bil. of Chn. 2009 $', 'seasonal_adjustment': 'Not Seasonally Adjusted', 'seasonal_adjustment_short': 'NSA', 'last_updated': '2018-03-28 07:51:13-05', 'popularity': 15, 'notes': 'BEA Account Code: A001RX\\n\\n'}, {'id': 'GNPCA', 'realtime_start': '2018-07-27', 'realtime_end': '2023-09-27', 'title': 'Real Gross National Product', 'observation_start': '1929-01-01', 'observation_end': '2022-01-01', 'frequency': 'Annual', 'frequency_short': 'A', 'units': 'Billions of Chained 2012 Dollars', 'units_short': 'Bil. of Chn. 2012 $', 'seasonal_adjustment': 'Not Seasonally Adjusted', 'seasonal_adjustment_short': 'NSA', 'last_updated': '2023-03-30 07:54:21-05', 'popularity': 15, 'notes': 'BEA Account Code: A001RX\\n\\n'}, {'id': 'GNPCA', 'realtime_start': '2023-09-28', 'realtime_end': '2023-12-31', 'title': 'Real Gross National Product', 'observation_start': '1929-01-01', 'observation_end': '2022-01-01', 'frequency': 'Annual', 'frequency_short': 'A', 'units': 'Billions of Chained 2017 Dollars', 'units_short': 'Bil. of Chn. 2017 $', 'seasonal_adjustment': 'Not Seasonally Adjusted', 'seasonal_adjustment_short': 'NSA', 'last_updated': '2023-09-28 07:51:16-05', 'popularity': 15, 'notes': 'BEA Account Code: A001RX\\n\\n'}]}\n"
                    ]
                }
            ],
            "source": [
                "import requests\n",
                "\n",
                "# URL \n",
                "url = \"https://api.stlouisfed.org/fred/series? series_id=GNPCA&api_key\"\n",
                "\n",
                "# Parámetros de la solicitud\n",
                "parametros = {\n",
                "    \"api_key\": \"b6dca5032d89bde8384394e634438df6\",  \n",
                "    \"file_type\": \"json\" , \n",
                "    \"realtime_start\":\"2018-07-04\",\n",
                "    \"realtime_end\":\"2023-12-31\"\n",
                "}\n",
                "\n",
                "# Realizar la solicitud GET\n",
                "response = requests.get(url, params=parametros)\n",
                "\n",
                "# Verificar si la solicitud fue exitosa\n",
                "if response.status_code == 200:\n",
                "    # Convertir la respuesta a formato JSON\n",
                "    data = response.json()\n",
                "    # Imprimir los datos obtenidos\n",
                "    print(data)\n",
                "else:\n",
                "    print(f\"Error en la solicitud: {response.status_code}\")\n"
            ]
        },
        {
            "cell_type": "code",
            "execution_count": 4,
            "metadata": {},
            "outputs": [
                {
                    "data": {
                        "text/plain": [
                            "dict"
                        ]
                    },
                    "execution_count": 4,
                    "metadata": {},
                    "output_type": "execute_result"
                }
            ],
            "source": [
                "type(data)"
            ]
        }
    ],
    "metadata": {
        "kernelspec": {
            "display_name": "Python 3",
            "language": "python",
            "name": "python3"
        },
        "language_info": {
            "codemirror_mode": {
                "name": "ipython",
                "version": 3
            },
            "file_extension": ".py",
            "mimetype": "text/x-python",
            "name": "python",
            "nbconvert_exporter": "python",
            "pygments_lexer": "ipython3",
            "version": "3.12.6"
        },
        "orig_nbformat": 4
    },
    "nbformat": 4,
    "nbformat_minor": 2
}
